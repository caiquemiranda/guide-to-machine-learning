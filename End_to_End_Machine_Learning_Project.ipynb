{
 "cells": [
  {
   "cell_type": "markdown",
   "metadata": {},
   "source": [
    "DR Guia passo a passo para construir um modelo de rede neural profunda com Keras para prever Preços do Airbnb em Nova York e implantação como API REST usando Flask"
   ]
  },
  {
   "cell_type": "markdown",
   "metadata": {},
   "source": [
    "Este guia permitirá implantar um modelo de aprendizado de máquina começando do zero. Aqui estão as etapas você vai cobrir:\n",
    "\n",
    "• Defina seu objetivo\n",
    "• Carregar dados\n",
    "• Exploração de dados\n",
    "• Preparação de dados\n",
    "• Construa e avalie seu modelo\n",
    "• Salve o modelo\n",
    "• Construir API REST\n",
    "• Implantar em produção"
   ]
  },
  {
   "cell_type": "markdown",
   "metadata": {},
   "source": [
    "### Definir objetivo/meta"
   ]
  },
  {
   "cell_type": "markdown",
   "metadata": {},
   "source": [
    "Obviamente, você precisa saber por que precisa de um modelo de aprendizado de máquina (ML).Conhecer o objetivo fornece insights sobre:\n",
    "\n",
    "• O ML é a abordagem certa?\n",
    "• De quais dados eu preciso?\n",
    "• Qual será a aparência de um “bom modelo”? Quais métricas posso usar?\n",
    "• Como resolvo o problema agora? Quão precisa é a solução?\n",
    "• Quanto custará manter este modelo em funcionamento?\n",
    "\n",
    "Em nosso exemplo, estamos tentando prever o preço de listagem do Airbnb³² por noite em Nova York. Nosso objetivo é claro - dados alguns dados, queremos que nosso modelo preveja quanto custará alugar um determinado imóvel\n",
    "por noite."
   ]
  },
  {
   "cell_type": "markdown",
   "metadata": {},
   "source": [
    "### Carregar dados"
   ]
  },
  {
   "cell_type": "markdown",
   "metadata": {},
   "source": [
    "Os dados vêm do Airbnb Open Data e estão hospedados no Kaggle³³\n",
    "\n",
    "Desde 2008, hóspedes e anfitriões usam o Airbnb para ampliar as possibilidades de viagem e apresentar uma maneira mais única e personalizada de experimentar o mundo. Este conjunto de dados descreve\n",
    "a atividade de listagem e métricas em NYC, NY para 2019."
   ]
  },
  {
   "cell_type": "markdown",
   "metadata": {},
   "source": [
    "#### Configuração \n",
    "\n",
    "Começaremos com várias importações e definindo uma semente aleatória para reprodutibilidade:"
   ]
  },
  {
   "cell_type": "code",
   "execution_count": null,
   "metadata": {},
   "outputs": [],
   "source": [
    "import numpy as np\n",
    "import tensorflow as tf\n",
    "from tensorflow import keras\n",
    "import pandas as pd\n",
    "import seaborn as sns\n",
    "from pylab import rcParams\n",
    "import matplotlib.pyplot as plt\n",
    "from matplotlib import rc\n",
    "from sklearn.model_selection import train_test_split\n",
    "import joblib"
   ]
  },
  {
   "cell_type": "code",
   "execution_count": null,
   "metadata": {},
   "outputs": [],
   "source": [
    "import warnings \n",
    "warnings.filterwarnings('ignore')"
   ]
  },
  {
   "cell_type": "code",
   "execution_count": null,
   "metadata": {},
   "outputs": [],
   "source": [
    "%matplotlib inline\n",
    "%config InlineBackend.figure_format='retina'\n",
    "\n",
    "sns.set(style='whitegrid', palette='muted', font_scale=1.5)\n",
    "\n",
    "rcParams['figure.figsize'] = 16, 10\n",
    "\n",
    "RANDOM_SEED = 42\n",
    "\n",
    "np.random.seed(RANDOM_SEED)\n",
    "tf.random.set_seed(RANDOM_SEED)"
   ]
  },
  {
   "cell_type": "code",
   "execution_count": null,
   "metadata": {},
   "outputs": [],
   "source": [
    "df = pd.read_csv('airbnb_data\\AB_NYC_2019.csv')"
   ]
  },
  {
   "cell_type": "code",
   "execution_count": null,
   "metadata": {},
   "outputs": [],
   "source": [
    "df"
   ]
  },
  {
   "cell_type": "markdown",
   "metadata": {},
   "source": [
    "Como podemos entender do que se tratam nossos dados?"
   ]
  },
  {
   "cell_type": "markdown",
   "metadata": {},
   "source": [
    "### Data exploration"
   ]
  },
  {
   "cell_type": "markdown",
   "metadata": {},
   "source": [
    "Esta etapa é crucial. O objetivo é obter uma melhor compreensão dos dados. Você pode ficar tentado\n",
    "para impulsionar o processo de modelagem, mas isso seria abaixo do ideal. Olhando para grandes quantidades de\n",
    "Por exemplo, procurar padrões e visualizar distribuições construirá sua intuição sobre os dados.\n",
    "Essa intuição será útil ao modelar, imputar dados ausentes e observar valores discrepantes.\n",
    "Uma maneira fácil de começar é contar o número de linhas e colunas em seu conjunto de dados:"
   ]
  },
  {
   "cell_type": "code",
   "execution_count": null,
   "metadata": {},
   "outputs": [],
   "source": [
    "df.shape"
   ]
  },
  {
   "cell_type": "markdown",
   "metadata": {},
   "source": [
    "Temos 48.895 linhas e 16 colunas. Dados suficientes para fazer algo interessante. Vamos começar com a variável que estamos tentando prever o preço. Para traçar a distribuição, usaremos"
   ]
  },
  {
   "cell_type": "code",
   "execution_count": null,
   "metadata": {},
   "outputs": [],
   "source": [
    "sns.distplot(df.price);"
   ]
  },
  {
   "cell_type": "markdown",
   "metadata": {},
   "source": [
    "Temos uma distribuição altamente distorcida com alguns valores na faixa de 10.000 (você pode querer explore-os). Usaremos um truque - transformação de log:"
   ]
  },
  {
   "cell_type": "code",
   "execution_count": null,
   "metadata": {},
   "outputs": [],
   "source": [
    "sns.distplot(np.log1p(df.price));"
   ]
  },
  {
   "cell_type": "markdown",
   "metadata": {},
   "source": [
    "Isso se parece mais com uma distribuição normal. Acontece que isso pode ajudar seu modelo a aprender melhor o dados³⁴. Você terá que se lembrar de pré-processar os dados antes de treinar e prever. O tipo de quarto parece ser outro ponto interessante. Vamos dar uma olhada:"
   ]
  },
  {
   "cell_type": "code",
   "execution_count": null,
   "metadata": {},
   "outputs": [],
   "source": [
    "sns.countplot(x='room_type', data=df);"
   ]
  },
  {
   "cell_type": "markdown",
   "metadata": {},
   "source": [
    "A maioria das listagens oferece lugares inteiros ou quartos privados. E quanto à localização? Que bairro grupos estão mais representados?"
   ]
  },
  {
   "cell_type": "code",
   "execution_count": null,
   "metadata": {},
   "outputs": [],
   "source": [
    "sns.countplot(x='neighbourhood_group', data=df);"
   ]
  },
  {
   "cell_type": "markdown",
   "metadata": {},
   "source": [
    "Como esperado, Manhattan lidera. Obviamente, o Brooklyn também está muito bem representado. Você pode\n",
    "obrigado Mos Def, Nas, Masta Ace e Fabolous por isso.\n",
    "Outra característica interessante é o número de avaliações. Vamos dar uma olhada nisso:"
   ]
  },
  {
   "cell_type": "code",
   "execution_count": null,
   "metadata": {},
   "outputs": [],
   "source": [
    "sns.distplot(df.number_of_reviews);"
   ]
  },
  {
   "cell_type": "markdown",
   "metadata": {},
   "source": [
    "Este parece seguir uma lei de potência³⁵ (tem cauda gorda). Este parece seguir uma lei de potência³⁶ (é tem uma cauda gorda). Parece haver alguns valores discrepantes (à direita) que podem ser de interesse para investigação."
   ]
  },
  {
   "cell_type": "markdown",
   "metadata": {},
   "source": [
    "#### Encontrando Correlações\n",
    "\n",
    "A análise de correlação pode fornecer dicas sobre quais recursos podem ter poder preditivo quando treinando seu modelo.\n",
    "\n",
    "Lembre-se, correlação não implica causalidade³⁷\n",
    "\n",
    "Calcular o coeficiente de correlação de Pearson³⁸ entre um par de recursos é fácil:"
   ]
  },
  {
   "cell_type": "code",
   "execution_count": null,
   "metadata": {},
   "outputs": [],
   "source": [
    "corr_matrix = df.corr();"
   ]
  },
  {
   "cell_type": "markdown",
   "metadata": {},
   "source": [
    "Vejamos a correlação do preço com os demais atributos:"
   ]
  },
  {
   "cell_type": "code",
   "execution_count": null,
   "metadata": {},
   "outputs": [],
   "source": [
    "price_corr = corr_matrix['price']\n",
    "price_corr.iloc[price_corr.abs().argsort()]"
   ]
  },
  {
   "cell_type": "markdown",
   "metadata": {},
   "source": [
    "O coeficiente de correlação é definido no intervalo de -1 a 1. Um valor próximo de 0 significa que não há correlação. O valor 1 sugere uma correlação positiva perfeita (por exemplo, à medida que o preço do Bitcoin aumenta, seus sonhos de possuir mais também estão aumentando!). O valor de -1 sugere correlação negativa perfeita (por exemplo, um grande número de críticas negativas deve estar correlacionado com preços mais baixos).\n",
    "\n",
    "A correlação em nosso conjunto de dados parece muito ruim. Felizmente, os recursos categóricos não estão incluídos aqui. Eles também podem ter algum poder preditivo! Como podemos usá-los?"
   ]
  },
  {
   "cell_type": "markdown",
   "metadata": {},
   "source": [
    "### Prepare os dados"
   ]
  },
  {
   "cell_type": "markdown",
   "metadata": {},
   "source": [
    "O objetivo aqui é transformar os dados em um formato adequado ao seu modelo. Existem vários coisas que você deseja fazer ao lidar com dados estruturados (pense em CSV, banco de dados):\n",
    "\n",
    "- Lidar com dados ausentes\n",
    "- Remova colunas desnecessárias\n",
    "- Transformar quaisquer recursos categóricos em números/vetores\n",
    "- Dimensionar recursos numéricos"
   ]
  },
  {
   "cell_type": "markdown",
   "metadata": {},
   "source": []
  }
 ],
 "metadata": {
  "kernelspec": {
   "display_name": "Python 3",
   "language": "python",
   "name": "python3"
  },
  "language_info": {
   "codemirror_mode": {
    "name": "ipython",
    "version": 3
   },
   "file_extension": ".py",
   "mimetype": "text/x-python",
   "name": "python",
   "nbconvert_exporter": "python",
   "pygments_lexer": "ipython3",
   "version": "3.10.5"
  },
  "orig_nbformat": 4
 },
 "nbformat": 4,
 "nbformat_minor": 2
}
